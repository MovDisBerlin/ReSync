{
 "cells": [
  {
   "cell_type": "code",
   "execution_count": 1,
   "metadata": {},
   "outputs": [],
   "source": [
    "# Importation of librairies and functions\n",
    "import os\n",
    "import importlib\n",
    "import pandas as pd\n",
    "import numpy as np\n",
    "import matplotlib.pyplot as plt\n",
    "from matplotlib.pyplot import figure\n",
    "import json\n",
    "from os.path import join"
   ]
  },
  {
   "cell_type": "code",
   "execution_count": 2,
   "metadata": {},
   "outputs": [],
   "source": [
    "os.chdir(\"C:\\\\Users\\\\Juliette\\\\Research\\\\Projects\\\\ReSync\")"
   ]
  },
  {
   "cell_type": "code",
   "execution_count": 3,
   "metadata": {},
   "outputs": [
    {
     "name": "stdout",
     "output_type": "stream",
     "text": [
      "C:\\Users\\Juliette\\Research\\Projects\\ReSync\n"
     ]
    }
   ],
   "source": [
    "project_path = os.getcwd()\n",
    "print(project_path)\n",
    "\n",
    "\n",
    "# import custom-made functions:\n",
    "from utils import *\n",
    "from resync_function import run_resync\n",
    "from interactive import *\n",
    "from tmsi_poly5reader import *\n",
    "from scripts.loading_data import _load_mat_file, _load_data_lfp, _load_TMSi_artefact_channel, _load_intracranial_csv_file, _load_external_csv_file"
   ]
  },
  {
   "cell_type": "code",
   "execution_count": 4,
   "metadata": {},
   "outputs": [],
   "source": [
    "def replace_with_shuffled_values(signal, replace_start, replace_end, shuffle_start, shuffle_end):\n",
    "    # Extract values from the specified part of the middle\n",
    "    selected_values = signal[shuffle_start:shuffle_end]\n",
    "\n",
    "    # Shuffle the selected values\n",
    "    shuffled_values = np.random.permutation(selected_values)\n",
    "\n",
    "    # Calculate the number of repetitions needed\n",
    "    repetitions = (replace_end - replace_start) // len(shuffled_values)\n",
    "\n",
    "    # Pad the shuffled values if needed\n",
    "    shuffled_values_padded = np.tile(shuffled_values, repetitions + 1)[:replace_end - replace_start]\n",
    "\n",
    "    # Replace the specified part of the signal with shuffled values\n",
    "    randomized_signal = np.copy(signal)\n",
    "    randomized_signal[replace_start:replace_end] = shuffled_values_padded\n",
    "\n",
    "    return randomized_signal"
   ]
  },
  {
   "cell_type": "markdown",
   "metadata": {},
   "source": [
    "## INTRACRANIAL ##"
   ]
  },
  {
   "cell_type": "code",
   "execution_count": 5,
   "metadata": {},
   "outputs": [],
   "source": [
    "os.chdir(project_path)"
   ]
  },
  {
   "cell_type": "code",
   "execution_count": 6,
   "metadata": {},
   "outputs": [
    {
     "data": {
      "text/plain": [
       "'C:\\\\Users\\\\Juliette\\\\Research\\\\Projects\\\\ReSync'"
      ]
     },
     "execution_count": 6,
     "metadata": {},
     "output_type": "execute_result"
    }
   ],
   "source": [
    "os.getcwd()"
   ]
  },
  {
   "cell_type": "code",
   "execution_count": 7,
   "metadata": {},
   "outputs": [],
   "source": [
    "sub_ID = 'sub084 3MFU M1S0 randomized'\n",
    "fname_lfp = 'sub-20230905PStn_ses-2023121802263096_run-BrainSense20231218024800.mat'\n",
    "ch_idx_lfp = 0"
   ]
  },
  {
   "cell_type": "code",
   "execution_count": 8,
   "metadata": {},
   "outputs": [],
   "source": [
    "#  Set saving path\n",
    "saving_path = join(\"results\", sub_ID)\n",
    "if not os.path.isdir(saving_path):\n",
    "    os.makedirs(saving_path)\n",
    "\n",
    "#  Set source path\n",
    "source_path = \"sourcedata\""
   ]
  },
  {
   "cell_type": "code",
   "execution_count": 9,
   "metadata": {},
   "outputs": [
    {
     "name": "stdout",
     "output_type": "stream",
     "text": [
      "Creating RawArray with float64 data, n_channels=6, n_times=74375\n",
      "    Range : 0 ... 74374 =      0.000 ...   297.496 secs\n",
      "Ready.\n"
     ]
    },
    {
     "name": "stderr",
     "output_type": "stream",
     "text": [
      "c:\\Users\\Juliette\\anaconda3\\envs\\resync\\Lib\\site-packages\\pymatreader\\utils.py:238: UserWarning: Complex objects (like classes) are not supported. They are imported on a best effort base but your mileage will vary.\n",
      "  warn('Complex objects (like classes) are not supported. '\n",
      "C:\\Users\\Juliette\\Research\\Projects\\ReSync\\scripts\\loading_data.py:57: RuntimeWarning: The supplied FieldTrip structure does not have an elec or grad field. No channel locations will extracted and the kind of channel might be inaccurate.\n",
      "  data = read_raw_fieldtrip(\n",
      "C:\\Users\\Juliette\\Research\\Projects\\ReSync\\scripts\\loading_data.py:57: RuntimeWarning: Cannot guess the correct type of channel LFP_Stn_L_02. Making it a MISC channel.\n",
      "  data = read_raw_fieldtrip(\n",
      "C:\\Users\\Juliette\\Research\\Projects\\ReSync\\scripts\\loading_data.py:57: RuntimeWarning: Cannot guess the correct type of channel LFP_Stn_R_13. Making it a MISC channel.\n",
      "  data = read_raw_fieldtrip(\n",
      "C:\\Users\\Juliette\\Research\\Projects\\ReSync\\scripts\\loading_data.py:57: RuntimeWarning: Cannot guess the correct type of channel LFP_Stn_L_02_PEAK12Hz_THR20-30_AVG3000ms. Making it a MISC channel.\n",
      "  data = read_raw_fieldtrip(\n",
      "C:\\Users\\Juliette\\Research\\Projects\\ReSync\\scripts\\loading_data.py:57: RuntimeWarning: Cannot guess the correct type of channel LFP_Stn_R_13_PEAK16Hz_THR20-30_AVG3000ms. Making it a MISC channel.\n",
      "  data = read_raw_fieldtrip(\n"
     ]
    }
   ],
   "source": [
    "dataset_lfp= _load_mat_file(sub_ID, fname_lfp, saving_path)\n",
    "LFP_array, lfp_sig, LFP_rec_ch_names, sf_LFP = _load_data_lfp(sub_ID, dataset_lfp, \n",
    "                                                        ch_idx_lfp, saving_path)"
   ]
  },
  {
   "cell_type": "code",
   "execution_count": 10,
   "metadata": {},
   "outputs": [
    {
     "data": {
      "text/plain": [
       "(74375,)"
      ]
     },
     "execution_count": 10,
     "metadata": {},
     "output_type": "execute_result"
    }
   ],
   "source": [
    "lfp_sig.shape"
   ]
  },
  {
   "cell_type": "code",
   "execution_count": 11,
   "metadata": {},
   "outputs": [
    {
     "data": {
      "text/plain": [
       "[<matplotlib.lines.Line2D at 0x27c13998050>]"
      ]
     },
     "execution_count": 11,
     "metadata": {},
     "output_type": "execute_result"
    }
   ],
   "source": [
    "%matplotlib qt\n",
    "plt.plot(lfp_sig)"
   ]
  },
  {
   "cell_type": "code",
   "execution_count": 12,
   "metadata": {},
   "outputs": [],
   "source": [
    "signal1 =  np.copy(lfp_sig)\n",
    "\n",
    "# Specify the start and end indices for the middle part to be replaced\n",
    "middle_replace_start = 3900\n",
    "middle_replace_end = 71680\n",
    "\n",
    "# Specify the start and end indices for the part to be used for shuffling\n",
    "shuffle_start = 3900\n",
    "shuffle_end = 71680\n",
    "\n",
    "# Replace the specified part of the signal with shuffled values\n",
    "randomized_signal1 = replace_with_shuffled_values(signal1, middle_replace_start, middle_replace_end, shuffle_start, shuffle_end)\n",
    "\n",
    "# Plot original and randomized signals\n",
    "plt.figure(figsize=(10, 6))\n",
    "#plt.plot(lfp_sig, label='Original Signal')\n",
    "plt.plot(randomized_signal1, label='Randomized Signal')\n",
    "plt.title('Signal Randomization Example')\n",
    "plt.legend()\n",
    "plt.show()\n"
   ]
  },
  {
   "cell_type": "code",
   "execution_count": 14,
   "metadata": {},
   "outputs": [],
   "source": [
    "# now to shuffle beginning of the signal:\n",
    "signal1 =  np.copy(randomized_signal1)\n",
    "\n",
    "# Specify the start and end indices for the part to be replaced\n",
    "beginning_replace_start = 0\n",
    "beginning_replace_end = 1980\n",
    "\n",
    "# Specify the start and end indices for the part to be used for shuffling\n",
    "beginning_shuffle_start = 0\n",
    "beginning_shuffle_end = 1980\n",
    "\n",
    "# Replace the specified part of the signal with shuffled values\n",
    "randomized_signal_lfp = replace_with_shuffled_values(signal1, beginning_replace_start, beginning_replace_end, beginning_shuffle_start, beginning_shuffle_end)\n",
    "\n",
    "# Plot original and randomized signals\n",
    "plt.figure(figsize=(10, 6))\n",
    "#plt.plot(lfp_sig, label='Original Signal')\n",
    "plt.plot(randomized_signal_lfp, label='Randomized Signal')\n",
    "plt.title('Signal Randomization Example')\n",
    "plt.legend()\n",
    "plt.show()\n"
   ]
  },
  {
   "cell_type": "code",
   "execution_count": 15,
   "metadata": {},
   "outputs": [],
   "source": [
    "randomized_signal_lfp_df = pd.DataFrame(randomized_signal_lfp, columns=[\"LFP_Stn_L_02\"])"
   ]
  },
  {
   "cell_type": "code",
   "execution_count": 16,
   "metadata": {},
   "outputs": [
    {
     "data": {
      "text/html": [
       "<div>\n",
       "<style scoped>\n",
       "    .dataframe tbody tr th:only-of-type {\n",
       "        vertical-align: middle;\n",
       "    }\n",
       "\n",
       "    .dataframe tbody tr th {\n",
       "        vertical-align: top;\n",
       "    }\n",
       "\n",
       "    .dataframe thead th {\n",
       "        text-align: right;\n",
       "    }\n",
       "</style>\n",
       "<table border=\"1\" class=\"dataframe\">\n",
       "  <thead>\n",
       "    <tr style=\"text-align: right;\">\n",
       "      <th></th>\n",
       "      <th>LFP_Stn_L_02</th>\n",
       "    </tr>\n",
       "  </thead>\n",
       "  <tbody>\n",
       "    <tr>\n",
       "      <th>0</th>\n",
       "      <td>-1.565633</td>\n",
       "    </tr>\n",
       "    <tr>\n",
       "      <th>1</th>\n",
       "      <td>8.163657</td>\n",
       "    </tr>\n",
       "    <tr>\n",
       "      <th>2</th>\n",
       "      <td>14.202526</td>\n",
       "    </tr>\n",
       "    <tr>\n",
       "      <th>3</th>\n",
       "      <td>25.273786</td>\n",
       "    </tr>\n",
       "    <tr>\n",
       "      <th>4</th>\n",
       "      <td>-15.209004</td>\n",
       "    </tr>\n",
       "    <tr>\n",
       "      <th>...</th>\n",
       "      <td>...</td>\n",
       "    </tr>\n",
       "    <tr>\n",
       "      <th>74370</th>\n",
       "      <td>25.385617</td>\n",
       "    </tr>\n",
       "    <tr>\n",
       "      <th>74371</th>\n",
       "      <td>25.721110</td>\n",
       "    </tr>\n",
       "    <tr>\n",
       "      <th>74372</th>\n",
       "      <td>23.037168</td>\n",
       "    </tr>\n",
       "    <tr>\n",
       "      <th>74373</th>\n",
       "      <td>19.682241</td>\n",
       "    </tr>\n",
       "    <tr>\n",
       "      <th>74374</th>\n",
       "      <td>18.004777</td>\n",
       "    </tr>\n",
       "  </tbody>\n",
       "</table>\n",
       "<p>74375 rows × 1 columns</p>\n",
       "</div>"
      ],
      "text/plain": [
       "       LFP_Stn_L_02\n",
       "0         -1.565633\n",
       "1          8.163657\n",
       "2         14.202526\n",
       "3         25.273786\n",
       "4        -15.209004\n",
       "...             ...\n",
       "74370     25.385617\n",
       "74371     25.721110\n",
       "74372     23.037168\n",
       "74373     19.682241\n",
       "74374     18.004777\n",
       "\n",
       "[74375 rows x 1 columns]"
      ]
     },
     "execution_count": 16,
     "metadata": {},
     "output_type": "execute_result"
    }
   ],
   "source": [
    "randomized_signal_lfp_df"
   ]
  },
  {
   "cell_type": "code",
   "execution_count": 17,
   "metadata": {},
   "outputs": [],
   "source": [
    "# save as csv:\n",
    "randomized_signal_lfp_df.to_csv(saving_path + '\\\\Intracerebral_LFP_' \n",
    "                                      + str(sub_ID) + '_' + str(sf_LFP) + 'Hz.csv', index=False)"
   ]
  },
  {
   "cell_type": "markdown",
   "metadata": {},
   "source": [
    "## EXTERNAL ##"
   ]
  },
  {
   "cell_type": "code",
   "execution_count": 18,
   "metadata": {},
   "outputs": [
    {
     "name": "stdout",
     "output_type": "stream",
     "text": [
      "Reading file  sourcedata\\sub084_3mfu_m1s0_BrStr_restTap - 20231218T154811.DATA.Poly5\n",
      "\t Number of samples:  729847 \n",
      "\t Number of channels:  38 \n",
      "\t Sample rate: 2048 Hz\n",
      "Done reading data.\n",
      "Creating RawArray with float64 data, n_channels=38, n_times=729847\n",
      "    Range : 0 ... 729846 =      0.000 ...   356.370 secs\n",
      "Ready.\n"
     ]
    }
   ],
   "source": [
    "#source_path = \"sourcedata\"\n",
    "fname_external = 'sub084_3mfu_m1s0_BrStr_restTap - 20231218T154811.DATA.Poly5'\n",
    "BIP_ch_name = 'Bip25'\n",
    "\n",
    "##  External\n",
    "#source_path = join(main_directory,'sourcedata')\n",
    "TMSi_data = Poly5Reader(join(source_path, fname_external)) \n",
    "(BIP_channel, external_file, external_rec_ch_names, \n",
    "sf_external, ch_index_external)= _load_TMSi_artefact_channel(sub_ID, TMSi_data, \n",
    "                                                            fname_external, BIP_ch_name, saving_path)\n"
   ]
  },
  {
   "cell_type": "code",
   "execution_count": 19,
   "metadata": {},
   "outputs": [
    {
     "data": {
      "text/plain": [
       "[<matplotlib.lines.Line2D at 0x27c21b59d90>]"
      ]
     },
     "execution_count": 19,
     "metadata": {},
     "output_type": "execute_result"
    }
   ],
   "source": [
    "plt.plot(BIP_channel)"
   ]
  },
  {
   "cell_type": "code",
   "execution_count": 20,
   "metadata": {},
   "outputs": [],
   "source": [
    "from utils import _filtering"
   ]
  },
  {
   "cell_type": "code",
   "execution_count": 21,
   "metadata": {},
   "outputs": [],
   "source": [
    "BIP_channel_filtered = _filtering(BIP_channel)"
   ]
  },
  {
   "cell_type": "code",
   "execution_count": 22,
   "metadata": {},
   "outputs": [
    {
     "data": {
      "text/plain": [
       "[<matplotlib.lines.Line2D at 0x27c21af1e80>]"
      ]
     },
     "execution_count": 22,
     "metadata": {},
     "output_type": "execute_result"
    }
   ],
   "source": [
    "plt.plot(BIP_channel_filtered)"
   ]
  },
  {
   "cell_type": "code",
   "execution_count": 24,
   "metadata": {},
   "outputs": [],
   "source": [
    "signal1 =  np.copy(BIP_channel_filtered)\n",
    "\n",
    "# Specify the start and end indices for the middle part to be replaced\n",
    "middle_replace_start = 71360\n",
    "middle_replace_end = 628480\n",
    "\n",
    "# Specify the start and end indices for the part to be used for shuffling\n",
    "shuffle_start = 71360\n",
    "shuffle_end = 628480\n",
    "\n",
    "# Replace the specified part of the signal with shuffled values\n",
    "randomized_signal1 = replace_with_shuffled_values(signal1, middle_replace_start, middle_replace_end, shuffle_start, shuffle_end)\n",
    "\n",
    "# Plot original and randomized signals\n",
    "plt.figure(figsize=(10, 6))\n",
    "plt.plot(BIP_channel, label='Original Signal')\n",
    "plt.plot(randomized_signal1, label='Randomized Signal')\n",
    "plt.title('Signal Randomization Example')\n",
    "plt.legend()\n",
    "plt.show()\n"
   ]
  },
  {
   "cell_type": "code",
   "execution_count": 25,
   "metadata": {},
   "outputs": [],
   "source": [
    "\n",
    "# now to shuffle beginning of the signal:\n",
    "signal1 =  np.copy(randomized_signal1)\n",
    "\n",
    "# Specify the start and end indices for the part to be replaced\n",
    "beginning_replace_start = 0\n",
    "beginning_replace_end = 57250\n",
    "\n",
    "# Specify the start and end indices for the part to be used for shuffling\n",
    "beginning_shuffle_start = 0\n",
    "beginning_shuffle_end = 57250\n",
    "\n",
    "# Replace the specified part of the signal with shuffled values\n",
    "randomized_signal2 = replace_with_shuffled_values(signal1, beginning_replace_start, beginning_replace_end, beginning_shuffle_start, beginning_shuffle_end)\n",
    "\n",
    "# Plot original and randomized signals\n",
    "plt.figure(figsize=(10, 6))\n",
    "plt.plot(BIP_channel, label='Original Signal')\n",
    "plt.plot(randomized_signal2, label='Randomized Signal')\n",
    "plt.title('Signal Randomization Example')\n",
    "plt.legend()\n",
    "plt.show()"
   ]
  },
  {
   "cell_type": "code",
   "execution_count": 26,
   "metadata": {},
   "outputs": [],
   "source": [
    "randomized_signal2 = pd.DataFrame(randomized_signal2, columns=[\"Bip25\"])"
   ]
  },
  {
   "cell_type": "code",
   "execution_count": 27,
   "metadata": {},
   "outputs": [
    {
     "data": {
      "text/html": [
       "<div>\n",
       "<style scoped>\n",
       "    .dataframe tbody tr th:only-of-type {\n",
       "        vertical-align: middle;\n",
       "    }\n",
       "\n",
       "    .dataframe tbody tr th {\n",
       "        vertical-align: top;\n",
       "    }\n",
       "\n",
       "    .dataframe thead th {\n",
       "        text-align: right;\n",
       "    }\n",
       "</style>\n",
       "<table border=\"1\" class=\"dataframe\">\n",
       "  <thead>\n",
       "    <tr style=\"text-align: right;\">\n",
       "      <th></th>\n",
       "      <th>Bip25</th>\n",
       "    </tr>\n",
       "  </thead>\n",
       "  <tbody>\n",
       "    <tr>\n",
       "      <th>0</th>\n",
       "      <td>-0.697413</td>\n",
       "    </tr>\n",
       "    <tr>\n",
       "      <th>1</th>\n",
       "      <td>-10.889383</td>\n",
       "    </tr>\n",
       "    <tr>\n",
       "      <th>2</th>\n",
       "      <td>-10.138157</td>\n",
       "    </tr>\n",
       "    <tr>\n",
       "      <th>3</th>\n",
       "      <td>-5.485416</td>\n",
       "    </tr>\n",
       "    <tr>\n",
       "      <th>4</th>\n",
       "      <td>-27.815863</td>\n",
       "    </tr>\n",
       "    <tr>\n",
       "      <th>...</th>\n",
       "      <td>...</td>\n",
       "    </tr>\n",
       "    <tr>\n",
       "      <th>729842</th>\n",
       "      <td>-244.567220</td>\n",
       "    </tr>\n",
       "    <tr>\n",
       "      <th>729843</th>\n",
       "      <td>-205.428299</td>\n",
       "    </tr>\n",
       "    <tr>\n",
       "      <th>729844</th>\n",
       "      <td>-171.410757</td>\n",
       "    </tr>\n",
       "    <tr>\n",
       "      <th>729845</th>\n",
       "      <td>-141.666528</td>\n",
       "    </tr>\n",
       "    <tr>\n",
       "      <th>729846</th>\n",
       "      <td>-115.454082</td>\n",
       "    </tr>\n",
       "  </tbody>\n",
       "</table>\n",
       "<p>729847 rows × 1 columns</p>\n",
       "</div>"
      ],
      "text/plain": [
       "             Bip25\n",
       "0        -0.697413\n",
       "1       -10.889383\n",
       "2       -10.138157\n",
       "3        -5.485416\n",
       "4       -27.815863\n",
       "...            ...\n",
       "729842 -244.567220\n",
       "729843 -205.428299\n",
       "729844 -171.410757\n",
       "729845 -141.666528\n",
       "729846 -115.454082\n",
       "\n",
       "[729847 rows x 1 columns]"
      ]
     },
     "execution_count": 27,
     "metadata": {},
     "output_type": "execute_result"
    }
   ],
   "source": [
    "randomized_signal2"
   ]
  },
  {
   "cell_type": "code",
   "execution_count": 28,
   "metadata": {},
   "outputs": [],
   "source": [
    "randomized_signal2.to_csv(saving_path + '\\\\External_data_' \n",
    "                                      + str(sub_ID) + '_' + str(sf_external) + 'Hz.csv', index=False)"
   ]
  }
 ],
 "metadata": {
  "kernelspec": {
   "display_name": "resync",
   "language": "python",
   "name": "python3"
  },
  "language_info": {
   "codemirror_mode": {
    "name": "ipython",
    "version": 3
   },
   "file_extension": ".py",
   "mimetype": "text/x-python",
   "name": "python",
   "nbconvert_exporter": "python",
   "pygments_lexer": "ipython3",
   "version": "3.12.0"
  }
 },
 "nbformat": 4,
 "nbformat_minor": 2
}
