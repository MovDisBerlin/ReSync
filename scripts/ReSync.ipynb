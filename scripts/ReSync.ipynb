{
 "cells": [
  {
   "cell_type": "markdown",
   "metadata": {},
   "source": [
    "## PART 1 : Import necessary functions, set parameters and load your own recordings ##"
   ]
  },
  {
   "attachments": {},
   "cell_type": "markdown",
   "metadata": {},
   "source": [
    "#### Import librairies, custom functions and set repository folder ####"
   ]
  },
  {
   "cell_type": "code",
   "execution_count": 2,
   "metadata": {},
   "outputs": [],
   "source": [
    "# Importation of librairies and functions\n",
    "import os\n",
    "import importlib\n",
    "import pandas as pd\n",
    "import numpy as np\n",
    "import matplotlib.pyplot as plt\n",
    "from matplotlib.pyplot import figure\n",
    "import json\n",
    "from os.path import join"
   ]
  },
  {
   "cell_type": "code",
   "execution_count": 3,
   "metadata": {},
   "outputs": [],
   "source": [
    "project_path = os.getcwd()\n",
    "os.chdir(\"C:\\\\Users\\\\Juliette\\\\Research\\\\Projects\\\\PyPerceive\\\\code\")\n",
    "from PerceiveImport.classes import (\n",
    "    main_class, modality_class, metadata_class,\n",
    "    session_class, condition_class, task_class,\n",
    "    contact_class, run_class\n",
    ")\n",
    "import PerceiveImport.methods.load_rawfile as load_rawfile\n",
    "import PerceiveImport.methods.find_folders as find_folders\n",
    "import PerceiveImport.methods.metadata_helpers as metaHelpers\n",
    "\n",
    "#reset the proper working directory for the analysis\n",
    "os.chdir(project_path)\n"
   ]
  },
  {
   "cell_type": "code",
   "execution_count": 3,
   "metadata": {},
   "outputs": [],
   "source": [
    "# import custom-made functions:\n",
    "from utils import *\n",
    "from resync_function import run_resync\n",
    "from interactive import *\n",
    "from tmsi_poly5reader import *\n",
    "from loading_data import _load_mat_file, _load_data_lfp, _load_TMSi_artefact_channel\n"
   ]
  },
  {
   "attachments": {},
   "cell_type": "markdown",
   "metadata": {},
   "source": [
    "#### Load your own LFP data: ####\n",
    "\n",
    "Resulting variables needed for subsequent analysis:\n",
    "- LFP_array (np.ndarray, 6d): the raw LFP recording, containing all channels\n",
    "- lfp_sig (np.ndarray, 1d): the channel containing the LFP signal from the hemisphere where the stimulation was delivered to generate artefacts\n",
    "- LFP_rec_ch_names (list): names of all the channels, in a list (will be used to annotate cropped recording)\n",
    "- sf_LFP (int): sampling frequency of intracerebral signal\n"
   ]
  },
  {
   "cell_type": "code",
   "execution_count": null,
   "metadata": {},
   "outputs": [],
   "source": [
    "# choose LFP file\n",
    "sub019 = main_class.PerceiveData(\n",
    "    sub = \"019\", \n",
    "    incl_modalities=['streaming'],\n",
    "    incl_session = [\"fu24m\"],\n",
    "    incl_condition =['m0s0','m0s1','m1s0','m1s1'],\n",
    "    incl_task = [\"rest\",\"fingerTap\"],\n",
    "    # incl_contact = [\"RingL\", \"SegmInterR\", \"SegmIntraR\"],\n",
    "    import_json=False,\n",
    "    warn_for_metaNaNs=False,\n",
    "    allow_NaNs_in_metadata=False\n",
    ")\n",
    "LFP_rec = sub019.streaming.fu24m.m0s0.rest.run1.data\n",
    "\n",
    "(LFP_array, \n",
    " lfp_sig, \n",
    " LFP_rec_ch_names, \n",
    " sf_LFP) = _set_lfp_data(LFP_rec)"
   ]
  },
  {
   "cell_type": "markdown",
   "metadata": {},
   "source": [
    "WITHOUT pyPerceive:"
   ]
  },
  {
   "cell_type": "code",
   "execution_count": 3,
   "metadata": {},
   "outputs": [
    {
     "name": "stdout",
     "output_type": "stream",
     "text": [
      "c:\\Users\\Juliette\\Research\\Projects\\ReSync\\scripts\n",
      "c:\\Users\\Juliette\\Research\\Projects\\ReSync\n",
      "c:\\Users\\Juliette\\Research\\Projects\\ReSync\\results\n",
      "c:\\Users\\Juliette\\Research\\Projects\\ReSync\\results\\Sub019 24MFU M0S0 rest\n"
     ]
    }
   ],
   "source": [
    "# Enter parameters:\n",
    "\n",
    "sub_ID=\"Sub019 24MFU M0S0 rest\"\n",
    "fname_lfp=\"sub-20210415PStn_ses-2023040408103277_run-BrainSense20230404081800.mat\"\n",
    "ch_idx_lfp=0\n",
    "fname_external=\"sub019_24mfu_M0S0_BrStr_Rest-20230404T101235.DATA.Poly5\"\n",
    "kernel = '2'\n",
    "AUTOMATIC=False\n",
    "\n",
    "#  Set saving path\n",
    "project_path=os.getcwd()\n",
    "print(project_path)\n",
    "\n",
    "os.chdir('..')\n",
    "main_directory=os.getcwd()\n",
    "print(main_directory)\n",
    "\n",
    "result_path = join(main_directory, \"results\")\n",
    "print(result_path)\n",
    "\n",
    "saving_path = join(result_path, sub_ID)\n",
    "print(saving_path)\n",
    "if not os.path.isdir(saving_path):\n",
    "    os.makedirs(saving_path)\n",
    "\n"
   ]
  },
  {
   "cell_type": "code",
   "execution_count": 12,
   "metadata": {},
   "outputs": [
    {
     "name": "stdout",
     "output_type": "stream",
     "text": [
      "Creating RawArray with float64 data, n_channels=6, n_times=45250\n",
      "    Range : 0 ... 45249 =      0.000 ...   180.996 secs\n",
      "Ready.\n"
     ]
    },
    {
     "name": "stderr",
     "output_type": "stream",
     "text": [
      "c:\\Users\\Juliette\\anaconda3\\envs\\resync\\Lib\\site-packages\\pymatreader\\utils.py:238: UserWarning: Complex objects (like classes) are not supported. They are imported on a best effort base but your mileage will vary.\n",
      "  warn('Complex objects (like classes) are not supported. '\n",
      "c:\\Users\\Juliette\\Research\\Projects\\ReSync\\scripts\\loading_data.py:37: RuntimeWarning: The supplied FieldTrip structure does not have an elec or grad field. No channel locations will extracted and the kind of channel might be inaccurate.\n",
      "  data = read_raw_fieldtrip(\n",
      "c:\\Users\\Juliette\\Research\\Projects\\ReSync\\scripts\\loading_data.py:37: RuntimeWarning: Cannot guess the correct type of channel LFP_Stn_L_03. Making it a MISC channel.\n",
      "  data = read_raw_fieldtrip(\n",
      "c:\\Users\\Juliette\\Research\\Projects\\ReSync\\scripts\\loading_data.py:37: RuntimeWarning: Cannot guess the correct type of channel LFP_Stn_R_02. Making it a MISC channel.\n",
      "  data = read_raw_fieldtrip(\n",
      "c:\\Users\\Juliette\\Research\\Projects\\ReSync\\scripts\\loading_data.py:37: RuntimeWarning: Cannot guess the correct type of channel LFP_Stn_L_03_PEAK24Hz_THR20-30_AVG3000ms. Making it a MISC channel.\n",
      "  data = read_raw_fieldtrip(\n",
      "c:\\Users\\Juliette\\Research\\Projects\\ReSync\\scripts\\loading_data.py:37: RuntimeWarning: Cannot guess the correct type of channel LFP_Stn_R_02_PEAK29Hz_THR20-30_AVG3000ms. Making it a MISC channel.\n",
      "  data = read_raw_fieldtrip(\n"
     ]
    }
   ],
   "source": [
    "os.chdir(main_directory)\n",
    "dataset_lfp= _load_mat_file(sub_ID, fname_lfp, saving_path)\n",
    "LFP_array, lfp_sig, LFP_rec_ch_names, sf_LFP = _load_data_lfp(sub_ID, dataset_lfp, ch_idx_lfp, saving_path)"
   ]
  },
  {
   "attachments": {},
   "cell_type": "markdown",
   "metadata": {},
   "source": [
    "#### Load your own external data: ####\n",
    "(our external data recorder is a TMSi Data recorder.)\n",
    "\n",
    "PM: NOTICE THE POP UP WINDOW AFTER RUNNING, TO SELECT THE FILE LOCATION\n",
    "\n",
    "Resulting variables:\n",
    "- external_file (np.ndarray, multi-dimensional): the complete external recording containing all channels recorded\n",
    "- BIP_channel (np.ndarray, 1d): the channel containing the signal from the bipolar electrode used to pick up the artefacts on the IPG/cable\n",
    "- external_rec_ch_names (list, same length as the number of channels in external_file): list of the channels names, to rename them accordingly after alignment\n",
    "- sf_external (int): sampling frequency of the external data recorder"
   ]
  },
  {
   "cell_type": "code",
   "execution_count": 88,
   "metadata": {},
   "outputs": [
    {
     "name": "stdout",
     "output_type": "stream",
     "text": [
      "Reading file  c:\\Users\\Juliette\\Research\\Projects\\ReSync\\sourcedata\\sub019_24mfu_M0S0_BrStr_Rest-20230404T101235.DATA.Poly5\n",
      "\t Number of samples:  846483 \n",
      "\t Number of channels:  18 \n",
      "\t Sample rate: 4000 Hz\n",
      "Done reading data.\n",
      "Creating RawArray with float64 data, n_channels=18, n_times=846483\n",
      "    Range : 0 ... 846482 =      0.000 ...   211.620 secs\n",
      "Ready.\n"
     ]
    },
    {
     "name": "stderr",
     "output_type": "stream",
     "text": [
      "c:\\Users\\Juliette\\Research\\Projects\\ReSync\\scripts\\tmsi_poly5reader.py:94: RuntimeWarning: Channel names are not unique, found duplicates for: {'Y', 'X', 'Z'}. Applying running numbers for duplicates.\n",
      "  info = mne.create_info(ch_names=labels, sfreq=fs, ch_types=types_clean)\n"
     ]
    }
   ],
   "source": [
    "##  External\n",
    "source_path = join(main_directory,'sourcedata')\n",
    "TMSi_data = Poly5Reader(join(source_path, fname_external)) \n",
    "BIP_channel, external_file, external_rec_ch_names, sf_external, ch_index_external = _load_TMSi_artefact_channel(sub_ID, TMSi_data, fname_external, AUTOMATIC, saving_path)\n"
   ]
  },
  {
   "cell_type": "markdown",
   "metadata": {},
   "source": [
    "GENERATE EXAMPLE TRACES:"
   ]
  },
  {
   "cell_type": "code",
   "execution_count": 89,
   "metadata": {},
   "outputs": [],
   "source": [
    "import numpy as np\n",
    "from scipy.io import savemat\n",
    "\n",
    "def replace_with_shuffled_values(signal, replace_start, replace_end, shuffle_start, shuffle_end):\n",
    "    # Extract values from the specified part of the middle\n",
    "    selected_values = signal[shuffle_start:shuffle_end]\n",
    "\n",
    "    # Shuffle the selected values\n",
    "    shuffled_values = np.random.permutation(selected_values)\n",
    "\n",
    "    # Calculate the number of repetitions needed\n",
    "    repetitions = (replace_end - replace_start) // len(shuffled_values)\n",
    "\n",
    "    # Pad the shuffled values if needed\n",
    "    shuffled_values_padded = np.tile(shuffled_values, repetitions + 1)[:replace_end - replace_start]\n",
    "\n",
    "    # Replace the specified part of the signal with shuffled values\n",
    "    randomized_signal = np.copy(signal)\n",
    "    randomized_signal[replace_start:replace_end] = shuffled_values_padded\n",
    "\n",
    "    return randomized_signal\n"
   ]
  },
  {
   "cell_type": "code",
   "execution_count": 92,
   "metadata": {},
   "outputs": [],
   "source": [
    "signal1 =  np.copy(BIP_channel)\n",
    "\n",
    "# Specify the start and end indices for the middle part to be replaced\n",
    "middle_replace_start = 240000\n",
    "middle_replace_end = 780000\n",
    "\n",
    "# Specify the start and end indices for the part to be used for shuffling\n",
    "shuffle_start = 510000\n",
    "shuffle_end = 780000\n",
    "\n",
    "# Replace the specified part of the signal with shuffled values\n",
    "randomized_signal1 = replace_with_shuffled_values(signal1, middle_replace_start, middle_replace_end, shuffle_start, shuffle_end)\n",
    "\n",
    "# Plot original and randomized signals\n",
    "plt.figure(figsize=(10, 6))\n",
    "plt.plot(BIP_channel, label='Original Signal')\n",
    "plt.plot(randomized_signal1, label='Randomized Signal')\n",
    "plt.title('Signal Randomization Example')\n",
    "plt.legend()\n",
    "plt.show()\n",
    "\n",
    "# now to shuffle beginning of the signal:\n",
    "signal1 =  np.copy(randomized_signal1)\n",
    "\n",
    "# Specify the start and end indices for the part to be replaced\n",
    "beginning_replace_start = 0\n",
    "beginning_replace_end = 174000\n",
    "\n",
    "# Specify the start and end indices for the part to be used for shuffling\n",
    "beginning_shuffle_start = 0\n",
    "beginning_shuffle_end = 80000\n",
    "\n",
    "# Replace the specified part of the signal with shuffled values\n",
    "randomized_signal2 = replace_with_shuffled_values(signal1, beginning_replace_start, beginning_replace_end, beginning_shuffle_start, beginning_shuffle_end)\n",
    "\n",
    "# Plot original and randomized signals\n",
    "plt.figure(figsize=(10, 6))\n",
    "plt.plot(BIP_channel, label='Original Signal')\n",
    "plt.plot(randomized_signal2, label='Randomized Signal')\n",
    "plt.title('Signal Randomization Example')\n",
    "plt.legend()\n",
    "plt.show()\n",
    "\n",
    "# Specify the file path for the .mat file\n",
    "mat_file_path = 'C:\\\\Users\\\\Juliette\\\\Research\\\\Projects\\\\ReSync\\\\sourcedata\\\\randomized_external_signal.csv'\n",
    "\n",
    "# Save the randomized signal as a .mat file\n",
    "savemat(mat_file_path, {'randomized_external_signal': randomized_signal2})"
   ]
  },
  {
   "cell_type": "markdown",
   "metadata": {},
   "source": [
    "## **READ ME** ##\n",
    "\n",
    "Before starting the run_resync function, be careful to check that the config file is properly set. In particular, pay attention to:\n",
    "- write the proper subject ID (to not overwrite previous analysis)\n",
    "- by default use kernel \"2\", and set \"real_index_LFP\" to 0 for the first run. This can be adjusted if necessary before re-running.\n",
    "- by default, set \"consider_first_seconds_LFP\", \"consider_first_seconds_external\" and \"ignore_first_seconds_external\" to null. "
   ]
  },
  {
   "cell_type": "markdown",
   "metadata": {},
   "source": [
    "Default parameters to adjust for our systems are:\n",
    "\n",
    "- For TMSi SAGA with sf = 4000Hz or 4096Hz : thresh_external = -0.001, ch_name_BIP = \"BIP 01\"\n",
    "- For TMSi SAGA with sf = 512Hz : thresh_external = -0.0005, ch_name_BIP = \"BIP 01\"\n",
    "- For TMSi Porti with sf = 2048Hz : thresh_external = -2000, ch_name_BIP = \"Bip25\""
   ]
  },
  {
   "cell_type": "markdown",
   "metadata": {},
   "source": [
    "## PART 2: Align recordings: ##"
   ]
  },
  {
   "cell_type": "code",
   "execution_count": null,
   "metadata": {},
   "outputs": [],
   "source": [
    "%matplotlib inline\n",
    "\n",
    "(LFP_df_offset, \n",
    " external_df_offset) = resync.run_resync(\n",
    "    LFP_array=LFP_array,\n",
    "    lfp_sig=lfp_sig,\n",
    "    LFP_rec_ch_names=LFP_rec_ch_names,\n",
    "    sf_LFP = sf_LFP,\n",
    "    external_file=external_file,\n",
    "    BIP_channel=BIP_channel,\n",
    "    external_rec_ch_names=external_rec_ch_names,\n",
    "    sf_external = sf_external,\n",
    "    SHOW_FIGURES = True\n",
    ")"
   ]
  },
  {
   "cell_type": "code",
   "execution_count": null,
   "metadata": {},
   "outputs": [],
   "source": [
    "%matplotlib inline\n",
    "#  Process/align recordings\n",
    "LFP_df_offset, external_df_offset = run_resync(sub_ID, kernel, LFP_array, lfp_sig, LFP_rec_ch_names, sf_LFP, external_file, BIP_channel, external_rec_ch_names, sf_external, saving_path, SHOW_FIGURES = False)\n"
   ]
  },
  {
   "cell_type": "markdown",
   "metadata": {},
   "source": [
    "#### Manual selection if no kernel is accurate enough: ####"
   ]
  },
  {
   "cell_type": "markdown",
   "metadata": {},
   "source": [
    "WARNING: the plot is displayed in an interactive window, look for the pop up. Be careful that when you select the sample the user input window is not already opened and waiting for input, because it doesn't take into account the point selected after the opening of the user input window. If you're not sure, answer 'n' to the user input window and reselect the sample, then answer 'y' when it pops-up again.\n",
    "\n",
    "WARNING 2: the sample chosen as 'start of the artefact' will automatically be the last point you clicked on. Be careful not to click anywhere else on the plot after having selected the proper sample."
   ]
  },
  {
   "cell_type": "code",
   "execution_count": null,
   "metadata": {},
   "outputs": [],
   "source": [
    "%matplotlib qt\n",
    "\n",
    "closest_value_lfp = interact.select_sample(\n",
    "    lfp_sig,\n",
    "    sf_LFP\n",
    ")"
   ]
  },
  {
   "cell_type": "markdown",
   "metadata": {},
   "source": [
    "#### Run again the run_resync function once the real_art_time is adjusted: ####"
   ]
  },
  {
   "cell_type": "code",
   "execution_count": null,
   "metadata": {},
   "outputs": [],
   "source": [
    "%matplotlib inline\n",
    "\n",
    "(LFP_df_offset, \n",
    " external_df_offset) = resync.run_resync(\n",
    "    LFP_array=LFP_array,\n",
    "    lfp_sig=lfp_sig,\n",
    "    LFP_rec_ch_names=LFP_rec_ch_names,\n",
    "    sf_LFP=sf_LFP,\n",
    "    external_file=external_file,\n",
    "    BIP_channel=BIP_channel,\n",
    "    external_rec_ch_names=external_rec_ch_names,\n",
    "    sf_external=sf_external,\n",
    "    real_art_time_LFP=closest_value_lfp,\n",
    "    SHOW_FIGURES=True\n",
    ")"
   ]
  },
  {
   "cell_type": "markdown",
   "metadata": {},
   "source": [
    "## PART 3 : Look for timeshift ##"
   ]
  },
  {
   "cell_type": "markdown",
   "metadata": {},
   "source": [
    "Nothing needs to be changed in the following cells, they just need to be executed one after the other and follow instructions for interactive cells, until the timeshift is plotted:"
   ]
  },
  {
   "cell_type": "code",
   "execution_count": null,
   "metadata": {},
   "outputs": [],
   "source": [
    "%matplotlib qt\n",
    "\n",
    "#import settings\n",
    "json_path = os.path.join(os.getcwd(), 'config')\n",
    "json_filename = 'config.json'  # dont forget json extension\n",
    "with open(os.path.join(json_path, json_filename), 'r') as f:\n",
    "    loaded_dict =  json.load(f)\n",
    "\n",
    "#set saving path\n",
    "if not loaded_dict['saving_path']:\n",
    "    saving_path = utils._define_folders()\n",
    "else:\n",
    "    saving_path = os.path.join(os.path.normpath(loaded_dict['saving_path']), loaded_dict['subject_ID'])\n",
    "    if not os.path.isdir(saving_path):\n",
    "        os.makedirs(saving_path)\n",
    "\n",
    "# Reselect artefact channels in the aligned (= cropped) files:\n",
    "LFP_channel_offset = LFP_df_offset.iloc[:, loaded_dict['LFP_ch_index']].to_numpy()  \n",
    "BIP_channel_offset = external_df_offset.iloc[:, loaded_dict['BIP_ch_index']].to_numpy() \n",
    "\n",
    "# Generate new timescales:\n",
    "LFP_timescale_offset_s = np.arange(\n",
    "    start=0, \n",
    "    stop=len(LFP_channel_offset)/sf_LFP, \n",
    "    step=1/sf_LFP\n",
    ")\n",
    "external_timescale_offset_s = np.arange(\n",
    "    start=0, \n",
    "    stop=len(external_df_offset)/sf_external, \n",
    "    step=1/sf_external\n",
    ")\n",
    "\n",
    "# detrend external recording with high-pass filter before processing:\n",
    "filtered_external_offset = utils._filtering(BIP_channel_offset)\n"
   ]
  },
  {
   "cell_type": "code",
   "execution_count": null,
   "metadata": {},
   "outputs": [],
   "source": [
    "last_artefact_lfp_x = interact.select_sample(LFP_channel_offset, sf_LFP)   # manually select last artefact in intracranial recording"
   ]
  },
  {
   "cell_type": "code",
   "execution_count": null,
   "metadata": {},
   "outputs": [],
   "source": [
    "last_artefact_external_x = interact.select_sample(filtered_external_offset, sf_external)    # manually select last artefact in external recording"
   ]
  },
  {
   "cell_type": "code",
   "execution_count": null,
   "metadata": {},
   "outputs": [],
   "source": [
    "timeshift_ms = (last_artefact_external_x - last_artefact_lfp_x)*1000\n",
    "\n",
    "print(f'The timeshift at the last artefact is of {timeshift_ms:.2f} ms after a recording duration of {last_artefact_external_x:.2f} s.')\n",
    "\n",
    "if abs(timeshift_ms) > 100:\n",
    "    print('WARNING: the timeshift is unusually high, consider checking for packet loss in LFP data.')"
   ]
  },
  {
   "cell_type": "code",
   "execution_count": null,
   "metadata": {},
   "outputs": [],
   "source": [
    "%matplotlib inline\n",
    "\n",
    "fig, (ax1, ax2) = plt.subplots(2, 1)\n",
    "fig.suptitle(str(loaded_dict['subject_ID']))\n",
    "fig.set_figheight(6)\n",
    "fig.set_figwidth(12)\n",
    "ax1.axes.xaxis.set_ticklabels([])\n",
    "ax2.set_xlabel('Time (s)')\n",
    "ax1.set_ylabel('Intracerebral LFP channel (µV)')\n",
    "ax2.set_ylabel('External bipolar channel (mV)')\n",
    "ax1.set_xlim(last_artefact_external_x - 0.050, last_artefact_external_x + 0.1) \n",
    "ax2.set_xlim(last_artefact_external_x - 0.050, last_artefact_external_x + 0.1)\n",
    "ax1.plot(\n",
    "    LFP_timescale_offset_s,\n",
    "    LFP_channel_offset,\n",
    "    color='peachpuff',\n",
    "    zorder=1\n",
    ")\n",
    "ax1.scatter(\n",
    "    LFP_timescale_offset_s,\n",
    "    LFP_channel_offset,\n",
    "    color='darkorange',\n",
    "    s=4,\n",
    "    zorder=2\n",
    ") \n",
    "ax1.axvline(\n",
    "    x=last_artefact_lfp_x, \n",
    "    ymin=min(LFP_channel_offset), \n",
    "    ymax=max(LFP_channel_offset),\n",
    "    color='black', \n",
    "    linestyle='dashed',\n",
    "    alpha=.3\n",
    ")\n",
    "ax2.plot(\n",
    "    external_timescale_offset_s,\n",
    "    filtered_external_offset,\n",
    "    color='paleturquoise',\n",
    "    zorder=1\n",
    ") \n",
    "ax2.scatter(\n",
    "    external_timescale_offset_s,\n",
    "    filtered_external_offset,\n",
    "    color='darkcyan',\n",
    "    s=4,\n",
    "    zorder=2\n",
    ") \n",
    "ax2.axvline(\n",
    "    x=last_artefact_external_x,\n",
    "    color='black',\n",
    "    linestyle='dashed',\n",
    "    alpha=.3\n",
    ")\n",
    "ax1.text(\n",
    "    0.05, \n",
    "    0.85, \n",
    "    s='delay intra/exter: ' \n",
    "    + str(round(timeshift_ms, 2)) \n",
    "    + 'ms', \n",
    "    fontsize=14, \n",
    "    transform=ax1.transAxes\n",
    ")\n",
    "fig.savefig(\n",
    "    saving_path \n",
    "    + '\\\\Fig8-Timeshift_Intracerebral and external recordings aligned_last artefact.png',\n",
    "    bbox_inches='tight',\n",
    "    dpi=1200\n",
    ")\n"
   ]
  },
  {
   "cell_type": "markdown",
   "metadata": {},
   "source": [
    "## PART 4 : Look for packet loss ##"
   ]
  },
  {
   "cell_type": "markdown",
   "metadata": {},
   "source": [
    "WARNING: this only works for pyPerceive users for now. If you are not using pyPerceive to import your LFP data, consider changing the importation mode in resync.check_packet_loss to adapt it to your needs."
   ]
  },
  {
   "cell_type": "code",
   "execution_count": null,
   "metadata": {},
   "outputs": [],
   "source": [
    "json_fname = 'Report_Json_Session_Report_20230523T113952_ANOM.json'  # write json filename with extension\n",
    "sub = '047' # write subject ID\n",
    "resync.check_packet_loss(json_fname, sub)"
   ]
  },
  {
   "cell_type": "markdown",
   "metadata": {},
   "source": [
    "## PLAYGROUND ##"
   ]
  },
  {
   "cell_type": "markdown",
   "metadata": {},
   "source": [
    "##### ECG artefact verification #####"
   ]
  },
  {
   "cell_type": "code",
   "execution_count": null,
   "metadata": {},
   "outputs": [],
   "source": [
    "%matplotlib inline\n",
    "\n",
    "resync.ecg(\n",
    "    LFP_df_offset,\n",
    "    sf_LFP,\n",
    "    external_df_offset,\n",
    "    sf_external,\n",
    "    xmin=0,\n",
    "    xmax=3,\n",
    "    SHOW_FIGURES = True\n",
    ")"
   ]
  }
 ],
 "metadata": {
  "kernelspec": {
   "display_name": "mne",
   "language": "python",
   "name": "python3"
  },
  "language_info": {
   "codemirror_mode": {
    "name": "ipython",
    "version": 3
   },
   "file_extension": ".py",
   "mimetype": "text/x-python",
   "name": "python",
   "nbconvert_exporter": "python",
   "pygments_lexer": "ipython3",
   "version": "3.12.0"
  },
  "orig_nbformat": 4,
  "vscode": {
   "interpreter": {
    "hash": "d88ae3f494ed6750ac12c087146162cb95510d20525109b4b9e2bae86cf73368"
   }
  }
 },
 "nbformat": 4,
 "nbformat_minor": 2
}
